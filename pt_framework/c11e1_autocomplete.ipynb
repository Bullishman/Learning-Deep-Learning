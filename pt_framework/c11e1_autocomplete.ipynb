{
  "cells": [
    {
      "cell_type": "code",
      "execution_count": 5,
      "metadata": {
        "id": "812yMC0WnhcW",
        "colab": {
          "base_uri": "https://localhost:8080/",
          "height": 219
        },
        "outputId": "f7355e16-7fc5-4672-9561-301452684fd4"
      },
      "outputs": [
        {
          "output_type": "execute_result",
          "data": {
            "text/plain": [
              "'\\nThe MIT License (MIT)\\nCopyright (c) 2021 NVIDIA\\nPermission is hereby granted, free of charge, to any person obtaining a copy of\\nthis software and associated documentation files (the \"Software\"), to deal in\\nthe Software without restriction, including without limitation the rights to\\nuse, copy, modify, merge, publish, distribute, sublicense, and/or sell copies of\\nthe Software, and to permit persons to whom the Software is furnished to do so,\\nsubject to the following conditions:\\nThe above copyright notice and this permission notice shall be included in all\\ncopies or substantial portions of the Software.\\nTHE SOFTWARE IS PROVIDED \"AS IS\", WITHOUT WARRANTY OF ANY KIND, EXPRESS OR\\nIMPLIED, INCLUDING BUT NOT LIMITED TO THE WARRANTIES OF MERCHANTABILITY, FITNESS\\nFOR A PARTICULAR PURPOSE AND NONINFRINGEMENT. IN NO EVENT SHALL THE AUTHORS OR\\nCOPYRIGHT HOLDERS BE LIABLE FOR ANY CLAIM, DAMAGES OR OTHER LIABILITY, WHETHER\\nIN AN ACTION OF CONTRACT, TORT OR OTHERWISE, ARISING FROM, OUT OF OR IN\\nCONNECTION WITH THE SOFTWARE OR THE USE OR OTHER DEALINGS IN THE SOFTWARE.\\n'"
            ],
            "application/vnd.google.colaboratory.intrinsic+json": {
              "type": "string"
            }
          },
          "metadata": {},
          "execution_count": 5
        }
      ],
      "source": [
        "\"\"\"\n",
        "The MIT License (MIT)\n",
        "Copyright (c) 2021 NVIDIA\n",
        "Permission is hereby granted, free of charge, to any person obtaining a copy of\n",
        "this software and associated documentation files (the \"Software\"), to deal in\n",
        "the Software without restriction, including without limitation the rights to\n",
        "use, copy, modify, merge, publish, distribute, sublicense, and/or sell copies of\n",
        "the Software, and to permit persons to whom the Software is furnished to do so,\n",
        "subject to the following conditions:\n",
        "The above copyright notice and this permission notice shall be included in all\n",
        "copies or substantial portions of the Software.\n",
        "THE SOFTWARE IS PROVIDED \"AS IS\", WITHOUT WARRANTY OF ANY KIND, EXPRESS OR\n",
        "IMPLIED, INCLUDING BUT NOT LIMITED TO THE WARRANTIES OF MERCHANTABILITY, FITNESS\n",
        "FOR A PARTICULAR PURPOSE AND NONINFRINGEMENT. IN NO EVENT SHALL THE AUTHORS OR\n",
        "COPYRIGHT HOLDERS BE LIABLE FOR ANY CLAIM, DAMAGES OR OTHER LIABILITY, WHETHER\n",
        "IN AN ACTION OF CONTRACT, TORT OR OTHERWISE, ARISING FROM, OUT OF OR IN\n",
        "CONNECTION WITH THE SOFTWARE OR THE USE OR OTHER DEALINGS IN THE SOFTWARE.\n",
        "\"\"\"\n"
      ]
    },
    {
      "cell_type": "markdown",
      "metadata": {
        "id": "hFK8_vGFnhcY"
      },
      "source": [
        "This code example demonstrates how to use an LSTM-based neural network and beam search to do text autocompletion. More context for this code example can be found in the section \"Programming Example: Using LSTM for Text Autocompletion\" in Chapter 11 in the book Learning Deep Learning by Magnus Ekman (ISBN: 9780137470358).\n"
      ]
    },
    {
      "cell_type": "markdown",
      "metadata": {
        "id": "KhxKaZY0nhcZ"
      },
      "source": [
        "The initialization code is shown in the first code snippet. Apart from the import statements, we need to provide the path to the text file to use for training. We also define two variables, WINDOW_LENGTH and WINDOW_STEP, which are used to control the process of splitting up this text file into multiple training examples. The other three variables control the beam-search algorithm and are described shortly. The text used to train the model is assumed to be in the file ../data/frankenstein.txt."
      ]
    },
    {
      "cell_type": "code",
      "execution_count": 6,
      "metadata": {
        "id": "UOYDr_donhcZ"
      },
      "outputs": [],
      "source": [
        "import torch\n",
        "import torch.nn as nn\n",
        "import torch.nn.functional as F\n",
        "from torch.utils.data import TensorDataset, DataLoader\n",
        "from sklearn.model_selection import train_test_split\n",
        "import numpy as np\n",
        "\n",
        "device = torch.device(\"cuda:0\" if torch.cuda.is_available() else \"cpu\")\n",
        "EPOCHS = 32\n",
        "BATCH_SIZE = 256\n",
        "INPUT_FILE_NAME = 'data/frankenstein.txt'\n",
        "WINDOW_LENGTH = 40\n",
        "WINDOW_STEP = 3\n",
        "BEAM_SIZE = 8\n",
        "NUM_LETTERS = 11\n",
        "MAX_LENGTH = 50\n"
      ]
    },
    {
      "cell_type": "markdown",
      "metadata": {
        "id": "4i13bhkKnhcZ"
      },
      "source": [
        "The next code snippet opens and reads the content of the file, converts it all into lowercase, and replaces double spaces with single spaces. To enable us to easily one-hot encode each character, we want to assign a monotonically increasing index to each character. This is done by first creating a list of unique characters. Once we have that list, we can loop over it and assign an incrementing index to each character. We do this twice to create one dictionary (a hash table) that maps from character to index and a reverse dictionary from index to character. These will come in handy later when we want to convert text into one-hot encoded input to the network as well as when we want to convert one-hot encoded output into characters. Finally, we initialize a variable encoding_width with the count of unique characters, which will be the width of each one-hot encoded vector that represents a character."
      ]
    },
    {
      "cell_type": "code",
      "execution_count": 7,
      "metadata": {
        "id": "PXoQNIDLnhca"
      },
      "outputs": [],
      "source": [
        "# Open the input file.\n",
        "file = open(INPUT_FILE_NAME, 'r', encoding='utf-8-sig')\n",
        "text = file.read()\n",
        "file.close()\n",
        "\n",
        "# Make lower-case and remove newline and extra spaces.\n",
        "text = text.lower()\n",
        "text = text.replace('\\n', ' ')\n",
        "text = text.replace('  ', ' ')\n",
        "\n",
        "# Encode characters as indices.\n",
        "unique_chars = list(set(text))\n",
        "char_to_index = dict((ch, index) for index,\n",
        "                     ch in enumerate(unique_chars))\n",
        "index_to_char = dict((index, ch) for index,\n",
        "                     ch in enumerate(unique_chars))\n",
        "encoding_width = len(char_to_index)\n"
      ]
    },
    {
      "cell_type": "markdown",
      "metadata": {
        "id": "5165AGljnhca"
      },
      "source": [
        "The next step is to create training examples from the text file. This is done by the next code snippet. Each training example will consist of a sequence of characters and a target output value of a single character immediately following the input characters. We create these input examples using a sliding window of length WINDOW_LENGTH. Once we have created one training example, we slide the window by WINDOW_STEP positions and create the next training example. We add the input examples to one list and the output values to another. All of this is done by the first for loop.\n",
        "\n",
        "We then create a single array holding all the input examples and another array holding the output values. Both of these arrays will hold data in one-hot encoded form, so each character is represented by a dimension of size encoding_width. We first allocate space for the two arrays and then fill in the values using a nested for loop.\n"
      ]
    },
    {
      "cell_type": "code",
      "execution_count": 8,
      "metadata": {
        "id": "creV0y_cnhca"
      },
      "outputs": [],
      "source": [
        "# Create training examples.\n",
        "fragments = []\n",
        "targets = []\n",
        "for i in range(0, len(text) - WINDOW_LENGTH, WINDOW_STEP):\n",
        "    fragments.append(text[i: i + WINDOW_LENGTH])\n",
        "    targets.append(text[i + WINDOW_LENGTH])\n",
        "\n",
        "# Convert to one-hot encoded training data.\n",
        "X = np.zeros((len(fragments), WINDOW_LENGTH, encoding_width), dtype=np.float32)\n",
        "y = np.zeros(len(fragments), dtype=np.int64)\n",
        "for i, fragment in enumerate(fragments):\n",
        "    for j, char in enumerate(fragment):\n",
        "        X[i, j, char_to_index[char]] = 1\n",
        "    target_char = targets[i]\n",
        "    y[i] = char_to_index[target_char]\n"
      ]
    },
    {
      "cell_type": "markdown",
      "metadata": {
        "id": "XnrMvEL3nhca"
      },
      "source": [
        "We then split the dataset into a training dataset and a test dataset using the train_test_split function from scikit-learn. We only withhold 5% as test dataset. Given that we are mostly interested in inspecting the resulting auto-completions in this example we could have skipped creating a test dataset altogether, but we create it anyway for good practice.\n",
        "\n",
        "We then convert the arrays into tensors and create Dataset objects.\n"
      ]
    },
    {
      "cell_type": "code",
      "execution_count": 9,
      "metadata": {
        "id": "fJwiGEj8nhcb"
      },
      "outputs": [],
      "source": [
        "# Split into training and test set.\n",
        "train_X, test_X, train_y, test_y = train_test_split(\n",
        "    X, y, test_size=0.05, random_state=0)\n",
        "\n",
        "# Create Dataset objects.\n",
        "trainset = TensorDataset(torch.from_numpy(train_X), torch.from_numpy(train_y))\n",
        "testset = TensorDataset(torch.from_numpy(test_X), torch.from_numpy(test_y))\n"
      ]
    },
    {
      "cell_type": "markdown",
      "metadata": {
        "id": "fom22-BMnhcb"
      },
      "source": [
        "We are now ready to build our model. From the perspective of training our model, it will look similar to the book sales prediction example, but we use a deeper model consisting of two LSTM layers (indicated by the argument num_layers to the nn.LSTM object). We want both LSTM layers to use a dropout value of 0.2. However, the nn.LSTM implementation does not apply dropout to the top layer, so we stack a separate Dropout layer on top of the LSTM object.\n",
        "\n",
        "Just as in c9e1_rnn_book_sales we have to create a custom layer to retrieve the correct set of outputs from the nn.LSTM object. The return value from LSTM is slightly more complex in that it returns both the internal cell state as well as the output state of each layer so we now need yet another index to select only the output state. That is, the second index (0) indicates that we want the output of the layer instead of the cell state, and the third index (1) indicates that we want the output of the second LSTM layer.\n",
        "\n",
        "We end with a fully connected layer with multiple neurons using a softmax function because we will be predicting probabilities for discrete entities (characters). We use categorical cross-entropy as our loss function, which is the recommended loss function for multicategory classification.\n",
        "\n",
        "Finally, we train the model for 32 epochs with a mini-batch size of 256.\n"
      ]
    },
    {
      "cell_type": "code",
      "execution_count": 9,
      "metadata": {
        "id": "SP3tiDv_sOec"
      },
      "outputs": [],
      "source": []
    },
    {
      "cell_type": "code",
      "execution_count": 10,
      "metadata": {
        "id": "nJ3vdrpisOyC"
      },
      "outputs": [],
      "source": [
        "import torch\n",
        "import torch.nn as nn\n",
        "import torch.optim as optim\n",
        "from torch.utils.data import DataLoader\n",
        "\n",
        "def train_model(model, device, EPOCHS, BATCH_SIZE, trainset, testset, optimizer, loss_function, metric_name):\n",
        "    train_loader = DataLoader(trainset, batch_size=BATCH_SIZE, shuffle=True)\n",
        "    test_loader = DataLoader(testset, batch_size=BATCH_SIZE, shuffle=False)\n",
        "\n",
        "    for epoch in range(EPOCHS):\n",
        "        # Training phase\n",
        "        model.train()\n",
        "        total_train_loss = 0\n",
        "\n",
        "        for batch_data, batch_labels in train_loader:\n",
        "            batch_data, batch_labels = batch_data.to(device), batch_labels.to(device)\n",
        "\n",
        "            optimizer.zero_grad()\n",
        "\n",
        "            outputs = model(batch_data)\n",
        "            loss = loss_function(outputs, batch_labels)\n",
        "\n",
        "            loss.backward()\n",
        "            optimizer.step()\n",
        "\n",
        "            total_train_loss += loss.item()\n",
        "\n",
        "        train_loss = total_train_loss / len(train_loader)\n",
        "\n",
        "        # Evaluation phase\n",
        "        model.eval()\n",
        "        total_test_loss = 0\n",
        "        correct_preds = 0\n",
        "        total_preds = 0\n",
        "\n",
        "        with torch.no_grad():\n",
        "            for batch_data, batch_labels in test_loader:\n",
        "                batch_data, batch_labels = batch_data.to(device), batch_labels.to(device)\n",
        "\n",
        "                outputs = model(batch_data)\n",
        "                loss = loss_function(outputs, batch_labels)\n",
        "\n",
        "                total_test_loss += loss.item()\n",
        "\n",
        "                # Calculate the metric (in this case, accuracy)\n",
        "                _, predicted = torch.max(outputs, 1)\n",
        "                correct_preds += (predicted == batch_labels).sum().item()\n",
        "                total_preds += batch_labels.size(0)\n",
        "\n",
        "        test_loss = total_test_loss / len(test_loader)\n",
        "        accuracy = correct_preds / total_preds\n",
        "\n",
        "        print(f'Epoch: {epoch + 1}/{EPOCHS}, '\n",
        "              f'Train Loss: {train_loss:.4f}, Test Loss: {test_loss:.4f}, '\n",
        "              f'Accuracy: {accuracy * 100:.2f}%')\n",
        "\n",
        "# Then you can call the train_model function with your arguments:\n",
        "# train_model(model, device, EPOCHS, BATCH_SIZE, trainset, testset, optimizer, loss_function, 'acc')"
      ]
    },
    {
      "cell_type": "code",
      "execution_count": 11,
      "metadata": {
        "colab": {
          "base_uri": "https://localhost:8080/"
        },
        "id": "PCUhHlNOnhcb",
        "outputId": "ce4150e5-ba6c-42b2-8c1c-e9b34c30f15a"
      },
      "outputs": [
        {
          "output_type": "stream",
          "name": "stdout",
          "text": [
            "Epoch: 1/32, Train Loss: 2.8280, Test Loss: 2.4457, Accuracy: 29.60%\n",
            "Epoch: 2/32, Train Loss: 2.3575, Test Loss: 2.2680, Accuracy: 32.80%\n",
            "Epoch: 3/32, Train Loss: 2.2220, Test Loss: 2.1499, Accuracy: 36.85%\n",
            "Epoch: 4/32, Train Loss: 2.1220, Test Loss: 2.0401, Accuracy: 38.68%\n",
            "Epoch: 5/32, Train Loss: 2.0371, Test Loss: 1.9581, Accuracy: 41.17%\n",
            "Epoch: 6/32, Train Loss: 1.9710, Test Loss: 1.8942, Accuracy: 43.69%\n",
            "Epoch: 7/32, Train Loss: 1.9135, Test Loss: 1.8475, Accuracy: 44.58%\n",
            "Epoch: 8/32, Train Loss: 1.8596, Test Loss: 1.7934, Accuracy: 46.11%\n",
            "Epoch: 9/32, Train Loss: 1.8144, Test Loss: 1.7536, Accuracy: 47.10%\n",
            "Epoch: 10/32, Train Loss: 1.7717, Test Loss: 1.7150, Accuracy: 48.13%\n",
            "Epoch: 11/32, Train Loss: 1.7345, Test Loss: 1.6799, Accuracy: 49.25%\n",
            "Epoch: 12/32, Train Loss: 1.6987, Test Loss: 1.6426, Accuracy: 50.06%\n",
            "Epoch: 13/32, Train Loss: 1.6690, Test Loss: 1.6210, Accuracy: 51.36%\n",
            "Epoch: 14/32, Train Loss: 1.6428, Test Loss: 1.5892, Accuracy: 52.27%\n",
            "Epoch: 15/32, Train Loss: 1.6156, Test Loss: 1.5718, Accuracy: 52.21%\n",
            "Epoch: 16/32, Train Loss: 1.5943, Test Loss: 1.5448, Accuracy: 53.37%\n",
            "Epoch: 17/32, Train Loss: 1.5709, Test Loss: 1.5369, Accuracy: 53.85%\n",
            "Epoch: 18/32, Train Loss: 1.5528, Test Loss: 1.5139, Accuracy: 54.24%\n",
            "Epoch: 19/32, Train Loss: 1.5324, Test Loss: 1.5047, Accuracy: 54.52%\n",
            "Epoch: 20/32, Train Loss: 1.5157, Test Loss: 1.4863, Accuracy: 54.63%\n",
            "Epoch: 21/32, Train Loss: 1.5015, Test Loss: 1.4771, Accuracy: 55.49%\n",
            "Epoch: 22/32, Train Loss: 1.4838, Test Loss: 1.4689, Accuracy: 55.75%\n",
            "Epoch: 23/32, Train Loss: 1.4707, Test Loss: 1.4579, Accuracy: 55.78%\n",
            "Epoch: 24/32, Train Loss: 1.4565, Test Loss: 1.4565, Accuracy: 55.97%\n",
            "Epoch: 25/32, Train Loss: 1.4452, Test Loss: 1.4462, Accuracy: 56.22%\n",
            "Epoch: 26/32, Train Loss: 1.4337, Test Loss: 1.4410, Accuracy: 56.18%\n",
            "Epoch: 27/32, Train Loss: 1.4211, Test Loss: 1.4346, Accuracy: 56.31%\n",
            "Epoch: 28/32, Train Loss: 1.4105, Test Loss: 1.4340, Accuracy: 56.49%\n",
            "Epoch: 29/32, Train Loss: 1.3972, Test Loss: 1.4266, Accuracy: 56.75%\n",
            "Epoch: 30/32, Train Loss: 1.3874, Test Loss: 1.4246, Accuracy: 56.87%\n",
            "Epoch: 31/32, Train Loss: 1.3789, Test Loss: 1.4221, Accuracy: 57.12%\n",
            "Epoch: 32/32, Train Loss: 1.3698, Test Loss: 1.4264, Accuracy: 56.64%\n"
          ]
        }
      ],
      "source": [
        "# Define model.\n",
        "class LastTimestep(nn.Module):\n",
        "    def forward(self, inputs):\n",
        "        return inputs[1][0][1] # Return hidden state for last timestep.\n",
        "\n",
        "model = nn.Sequential(\n",
        "    nn.LSTM(encoding_width, 128, num_layers=2, dropout=0.2, batch_first=True),\n",
        "    LastTimestep(),\n",
        "    nn.Dropout(0.2), # Add this since PyTorch LSTM does not apply dropout to top layer.\n",
        "    nn.Linear(128, encoding_width)\n",
        ")\n",
        "\n",
        "# Loss function and optimizer\n",
        "optimizer = torch.optim.Adam(model.parameters())\n",
        "loss_function = nn.CrossEntropyLoss()\n",
        "\n",
        "# Train the model.\n",
        "train_model(model, device, EPOCHS, BATCH_SIZE, trainset, testset,\n",
        "            optimizer, loss_function, 'acc')\n"
      ]
    },
    {
      "cell_type": "markdown",
      "metadata": {
        "id": "fWOTXaFcnhcb"
      },
      "source": [
        "The next step is to implement the beam search algorithm to predict text. Consult the section \"Beam Search\" in Chapter 11 for more details about beam search. In our implementation, each beam is represented by a tuple with three elements. The first element is the logarithm of the cumulative probability for the current sequence of characters. The second element is the string of characters. The third element is a one-hot encoded version of the string of characters. A reasonable question is why we store the logarithm of the cumulative probability instead of just the cumulative probability. Given that these probabilities are small, there is a risk that the limited precision of computer arithmetic results in underflow. This is addressed by instead computing the logarithm of the probability, in which case the multiplication is converted to an addition. For a small number of words, this is not necessary, but we do it anyway for good practice.\n",
        "\n",
        "We start by creating a single beam with an initial sequence of characters ('the body ') and set the initial probability to 1.0. The one-hot encoded version of the string is created by the first loop. We add this beam to a list named beams.\n",
        "\n",
        "This is followed by a nested loop that uses the trained model to do predictions according to the beam-search algorithm. We extract the one-hot encoding representation of each beam and create a NumPy array with multiple input examples. There is one input example per beam. During the first iteration, there is only a single input example. During the remaining iterations, there will be BEAM_SIZE number of examples.\n",
        "\n",
        "We convert the input to a tensor, move to the GPU and feed to the model. We also need to explicitly apply softmax to the output because the softmax operation is not included in the model itself. This results in one softmax vector per beam. The softmax vector contains one probability per word in the vocabulary. For each beam, we create BEAM_SIZE new beams, each beam consisting of the words from the original beam concatenated with one more word. We choose the most probable words when creating the beams. The probability for each beam can be computed by multiplying the current probability of the beam by the probability for the added word.\n",
        "\n",
        "Once we have created BEAM_SIZE beams for each existing beam, we sort the list of new beams according to their probabilities. We then discard all but the top BEAM_SIZE beams. This represents the pruning step. For the first iteration, this does not result in any pruning because we started with a single beam, and this beam resulted in just BEAM_SIZE beams. For all remaining iterations, we will end up with BEAM_SIZE * BEAM_SIZE beams and discard most of them.\n",
        "\n",
        "The loop runs for a fixed number of iterations followed by printing out the generated predictions. See the section \"Programming Example: Using LSTM for Text Autocompletion\" in Chapter 12 for examples of generated predictions that an equivalent TensorFlow implementation generated.\n"
      ]
    },
    {
      "cell_type": "code",
      "execution_count": 12,
      "metadata": {
        "id": "H8HFhKVQnhcb",
        "colab": {
          "base_uri": "https://localhost:8080/"
        },
        "outputId": "1142769b-46f7-4c49-beb5-1eb8ea013c19"
      },
      "outputs": [
        {
          "output_type": "stream",
          "name": "stdout",
          "text": [
            "the body with the co\n",
            "the body with the mo\n",
            "the body with the de\n",
            "the body with the wo\n",
            "the body with the pr\n",
            "the body with the se\n",
            "the body with the di\n",
            "the body with the mi\n"
          ]
        }
      ],
      "source": [
        "# Create initial single beam represented by triplet\n",
        "# (probability , string , one-hot encoded string).\n",
        "letters = 'the body '\n",
        "one_hots = []\n",
        "for i, char in enumerate(letters):\n",
        "    x = np.zeros(encoding_width)\n",
        "    x[char_to_index[char]] = 1\n",
        "    one_hots.append(x)\n",
        "beams = [(np.log(1.0), letters, one_hots)]\n",
        "\n",
        "# Predict NUM_LETTERS into the future.\n",
        "for i in range(NUM_LETTERS):\n",
        "    minibatch_list = []\n",
        "    # Create minibatch from one-hot encodings, and predict.\n",
        "    for triple in beams:\n",
        "        minibatch_list.append(triple[2])\n",
        "    minibatch = np.array(minibatch_list, dtype=np.float32)\n",
        "    inputs = torch.from_numpy(minibatch)\n",
        "    inputs = inputs.to(device)\n",
        "    outputs = model(inputs)\n",
        "    outputs = F.softmax(outputs, dim = 1)\n",
        "    y_predict = outputs.cpu().detach().numpy()\n",
        "\n",
        "    new_beams = []\n",
        "    for j, softmax_vec in enumerate(y_predict):\n",
        "        triple = beams[j]\n",
        "        # Create BEAM_SIZE new beams from each existing beam.\n",
        "        for k in range(BEAM_SIZE):\n",
        "            char_index = np.argmax(softmax_vec)\n",
        "            new_prob = triple[0] + np.log(softmax_vec[char_index])\n",
        "            new_letters = triple[1] + index_to_char[char_index]\n",
        "            x = np.zeros(encoding_width)\n",
        "            x[char_index] = 1\n",
        "            new_one_hots = triple[2].copy()\n",
        "            new_one_hots.append(x)\n",
        "            new_beams.append((new_prob, new_letters, new_one_hots))\n",
        "            softmax_vec[char_index] = 0\n",
        "    # Prune tree to only keep BEAM_SIZE most probable beams.\n",
        "    new_beams.sort(key=lambda tup: tup[0], reverse=True)\n",
        "    beams = new_beams[0:BEAM_SIZE]\n",
        "for item in beams:\n",
        "    print(item[1])\n"
      ]
    }
  ],
  "metadata": {
    "colab": {
      "provenance": []
    },
    "kernelspec": {
      "display_name": "Python 3",
      "language": "python",
      "name": "python3"
    },
    "language_info": {
      "codemirror_mode": {
        "name": "ipython",
        "version": 3
      },
      "file_extension": ".py",
      "mimetype": "text/x-python",
      "name": "python",
      "nbconvert_exporter": "python",
      "pygments_lexer": "ipython3",
      "version": "3.8.6"
    }
  },
  "nbformat": 4,
  "nbformat_minor": 0
}