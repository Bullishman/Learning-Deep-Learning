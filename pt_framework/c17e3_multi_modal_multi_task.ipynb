{
  "cells": [
    {
      "cell_type": "code",
      "execution_count": 1,
      "metadata": {
        "id": "d4mK-W4AGzW1",
        "outputId": "546b62b8-e61b-4041-d190-94e193e9e2eb",
        "colab": {
          "base_uri": "https://localhost:8080/",
          "height": 164
        }
      },
      "outputs": [
        {
          "output_type": "execute_result",
          "data": {
            "text/plain": [
              "'\\nThe MIT License (MIT)\\nCopyright (c) 2021 NVIDIA\\nPermission is hereby granted, free of charge, to any person obtaining a copy of\\nthis software and associated documentation files (the \"Software\"), to deal in\\nthe Software without restriction, including without limitation the rights to\\nuse, copy, modify, merge, publish, distribute, sublicense, and/or sell copies of\\nthe Software, and to permit persons to whom the Software is furnished to do so,\\nsubject to the following conditions:\\nThe above copyright notice and this permission notice shall be included in all\\ncopies or substantial portions of the Software.\\nTHE SOFTWARE IS PROVIDED \"AS IS\", WITHOUT WARRANTY OF ANY KIND, EXPRESS OR\\nIMPLIED, INCLUDING BUT NOT LIMITED TO THE WARRANTIES OF MERCHANTABILITY, FITNESS\\nFOR A PARTICULAR PURPOSE AND NONINFRINGEMENT. IN NO EVENT SHALL THE AUTHORS OR\\nCOPYRIGHT HOLDERS BE LIABLE FOR ANY CLAIM, DAMAGES OR OTHER LIABILITY, WHETHER\\nIN AN ACTION OF CONTRACT, TORT OR OTHERWISE, ARISING FROM, OUT OF OR IN\\nCONNECTION WITH THE SOFTWARE OR THE USE OR OTHER DEALINGS IN THE SOFTWARE.\\n'"
            ],
            "application/vnd.google.colaboratory.intrinsic+json": {
              "type": "string"
            }
          },
          "metadata": {},
          "execution_count": 1
        }
      ],
      "source": [
        "\"\"\"\n",
        "The MIT License (MIT)\n",
        "Copyright (c) 2021 NVIDIA\n",
        "Permission is hereby granted, free of charge, to any person obtaining a copy of\n",
        "this software and associated documentation files (the \"Software\"), to deal in\n",
        "the Software without restriction, including without limitation the rights to\n",
        "use, copy, modify, merge, publish, distribute, sublicense, and/or sell copies of\n",
        "the Software, and to permit persons to whom the Software is furnished to do so,\n",
        "subject to the following conditions:\n",
        "The above copyright notice and this permission notice shall be included in all\n",
        "copies or substantial portions of the Software.\n",
        "THE SOFTWARE IS PROVIDED \"AS IS\", WITHOUT WARRANTY OF ANY KIND, EXPRESS OR\n",
        "IMPLIED, INCLUDING BUT NOT LIMITED TO THE WARRANTIES OF MERCHANTABILITY, FITNESS\n",
        "FOR A PARTICULAR PURPOSE AND NONINFRINGEMENT. IN NO EVENT SHALL THE AUTHORS OR\n",
        "COPYRIGHT HOLDERS BE LIABLE FOR ANY CLAIM, DAMAGES OR OTHER LIABILITY, WHETHER\n",
        "IN AN ACTION OF CONTRACT, TORT OR OTHERWISE, ARISING FROM, OUT OF OR IN\n",
        "CONNECTION WITH THE SOFTWARE OR THE USE OR OTHER DEALINGS IN THE SOFTWARE.\n",
        "\"\"\"\n"
      ]
    },
    {
      "cell_type": "markdown",
      "metadata": {
        "id": "PmjF7SLCGzW5"
      },
      "source": [
        "This code example extends the multimodal network from c17e2_multi_modal with an additional head to build a network that does multitask learning using multimodal inputs. We teach the network to simultaneously do multiclass classification (identify the handwritten digit) and perform a simple question-answering task. The question-answering task is to provide a yes/no answer to a question about the digit in the image. The textual input will look similar to the textual input in c17e2_multi_modal ('upper half', 'lower half', 'odd number', 'even number'). However, instead of correctly describing the digit, the text is chosen randomly and represents a question. The network is then tasked with classifying the image into one of ten classes as well as with determining whether the answer to the question is yes or no (is the statement true or false). More context for this code example can be found in the section \"Programming Example: Multiclass classification and question answering with a single network\" in Chapter 17 in the book Learning Deep Learning by Magnus Ekman (ISBN: 9780137470358).\n",
        "\n",
        "As always, we start with initialization code and loading the dataset.\n"
      ]
    },
    {
      "cell_type": "code",
      "execution_count": 2,
      "metadata": {
        "id": "KHpSE6vyGzW7",
        "outputId": "7ec60bd2-5d22-4df1-ea5d-b08a994cec35",
        "colab": {
          "base_uri": "https://localhost:8080/"
        }
      },
      "outputs": [
        {
          "output_type": "stream",
          "name": "stdout",
          "text": [
            "Downloading http://yann.lecun.com/exdb/mnist/train-images-idx3-ubyte.gz\n",
            "Downloading http://yann.lecun.com/exdb/mnist/train-images-idx3-ubyte.gz to ./pt_data/MNIST/raw/train-images-idx3-ubyte.gz\n"
          ]
        },
        {
          "output_type": "stream",
          "name": "stderr",
          "text": [
            "100%|██████████| 9912422/9912422 [00:00<00:00, 95281522.56it/s]\n"
          ]
        },
        {
          "output_type": "stream",
          "name": "stdout",
          "text": [
            "Extracting ./pt_data/MNIST/raw/train-images-idx3-ubyte.gz to ./pt_data/MNIST/raw\n",
            "\n",
            "Downloading http://yann.lecun.com/exdb/mnist/train-labels-idx1-ubyte.gz\n",
            "Downloading http://yann.lecun.com/exdb/mnist/train-labels-idx1-ubyte.gz to ./pt_data/MNIST/raw/train-labels-idx1-ubyte.gz\n"
          ]
        },
        {
          "output_type": "stream",
          "name": "stderr",
          "text": [
            "100%|██████████| 28881/28881 [00:00<00:00, 94195718.37it/s]"
          ]
        },
        {
          "output_type": "stream",
          "name": "stdout",
          "text": [
            "Extracting ./pt_data/MNIST/raw/train-labels-idx1-ubyte.gz to ./pt_data/MNIST/raw\n",
            "\n",
            "Downloading http://yann.lecun.com/exdb/mnist/t10k-images-idx3-ubyte.gz\n",
            "Downloading http://yann.lecun.com/exdb/mnist/t10k-images-idx3-ubyte.gz to ./pt_data/MNIST/raw/t10k-images-idx3-ubyte.gz\n"
          ]
        },
        {
          "output_type": "stream",
          "name": "stderr",
          "text": [
            "\n",
            "100%|██████████| 1648877/1648877 [00:00<00:00, 27287220.24it/s]\n"
          ]
        },
        {
          "output_type": "stream",
          "name": "stdout",
          "text": [
            "Extracting ./pt_data/MNIST/raw/t10k-images-idx3-ubyte.gz to ./pt_data/MNIST/raw\n",
            "\n",
            "Downloading http://yann.lecun.com/exdb/mnist/t10k-labels-idx1-ubyte.gz\n",
            "Downloading http://yann.lecun.com/exdb/mnist/t10k-labels-idx1-ubyte.gz to ./pt_data/MNIST/raw/t10k-labels-idx1-ubyte.gz\n"
          ]
        },
        {
          "output_type": "stream",
          "name": "stderr",
          "text": [
            "100%|██████████| 4542/4542 [00:00<00:00, 18212742.61it/s]\n"
          ]
        },
        {
          "output_type": "stream",
          "name": "stdout",
          "text": [
            "Extracting ./pt_data/MNIST/raw/t10k-labels-idx1-ubyte.gz to ./pt_data/MNIST/raw\n",
            "\n"
          ]
        }
      ],
      "source": [
        "import torch\n",
        "import torch.nn as nn\n",
        "import torch.nn.functional as F\n",
        "from torch.utils.data import TensorDataset, DataLoader\n",
        "import torchvision\n",
        "import torchvision.transforms as transforms\n",
        "from torchvision.datasets import MNIST\n",
        "from torch.utils.data import DataLoader\n",
        "# Using Keras Tokenizer for simplicity\n",
        "from tensorflow.keras.preprocessing.text import Tokenizer\n",
        "from tensorflow.keras.preprocessing.text \\\n",
        "    import text_to_word_sequence\n",
        "from tensorflow.keras.preprocessing.sequence \\\n",
        "    import pad_sequences\n",
        "import numpy as np\n",
        "import matplotlib.pyplot as plt\n",
        "\n",
        "device = torch.device(\"cuda:0\" if torch.cuda.is_available() else \"cpu\")\n",
        "EPOCHS = 20\n",
        "BATCH_SIZE = 64\n",
        "MAX_WORDS = 8\n",
        "EMBEDDING_WIDTH = 4\n",
        "\n",
        "# Load MNIST dataset.\n",
        "trainset = MNIST(root='./pt_data', train=True, download=True)\n",
        "testset = MNIST(root='./pt_data', train=False, download=True)\n",
        "\n",
        "# Convert to numpy arrays to enable us to create a richer dataset.\n",
        "train_images = trainset.data.numpy().astype(np.float32)\n",
        "train_labels = trainset.targets.numpy()\n",
        "test_images = testset.data.numpy().astype(np.float32)\n",
        "test_labels = testset.targets.numpy()\n",
        "\n",
        "# Standardize the data.\n",
        "mean = np.mean(train_images)\n",
        "stddev = np.std(train_images)\n",
        "train_images = (train_images - mean) / stddev\n",
        "test_images = (test_images - mean) / stddev\n"
      ]
    },
    {
      "cell_type": "markdown",
      "metadata": {
        "id": "opoMUwXsGzW7"
      },
      "source": [
        "The next step is to extend the MNIST dataset with questions and answers. This is done in the next code snippet. The code alternates between the four questions/statements for each training and test example. It then determines whether the answer is yes or no based on the ground truth label.\n"
      ]
    },
    {
      "cell_type": "code",
      "execution_count": 3,
      "metadata": {
        "id": "86v6nBIbGzW8"
      },
      "outputs": [],
      "source": [
        "# Function to create question and answer text.\n",
        "def create_question_answer(tokenizer, labels):\n",
        "    text = []\n",
        "    answers = np.zeros(len(labels))\n",
        "    for i, label in enumerate(labels):\n",
        "        question_num = i % 4\n",
        "        if question_num == 0:\n",
        "            text.append('lower half')\n",
        "            if label < 5:\n",
        "                answers[i] = 1.0\n",
        "        elif question_num == 1:\n",
        "            text.append('upper half')\n",
        "            if label >= 5:\n",
        "                answers[i] = 1.0\n",
        "        elif question_num == 2:\n",
        "            text.append('even number')\n",
        "            if label % 2 == 0:\n",
        "                answers[i] = 1.0\n",
        "        elif question_num == 3:\n",
        "            text.append('odd number')\n",
        "            if label % 2 == 1:\n",
        "                answers[i] = 1.0\n",
        "    text = tokenizer.texts_to_sequences(text)\n",
        "    text = pad_sequences(text).astype(np.int64)\n",
        "    answers = answers.reshape((len(labels), 1))\n",
        "    return text, answers\n",
        "\n",
        "# Create second modality for training and test set.\n",
        "vocabulary = ['lower', 'upper', 'half', 'even', 'odd', 'number']\n",
        "tokenizer = Tokenizer(num_words=MAX_WORDS)\n",
        "tokenizer.fit_on_texts(vocabulary)\n",
        "train_text, train_answers = create_question_answer(tokenizer,\n",
        "                                                   train_labels)\n",
        "test_text, test_answers = create_question_answer(tokenizer,\n",
        "                                                 test_labels)\n",
        "\n",
        "# Create datasets.\n",
        "trainset = TensorDataset(torch.from_numpy(train_images),\n",
        "                         torch.from_numpy(train_text),\n",
        "                         torch.from_numpy(train_labels),\n",
        "                         torch.from_numpy(train_answers))\n",
        "\n",
        "testset = TensorDataset(torch.from_numpy(test_images),\n",
        "                         torch.from_numpy(test_text),\n",
        "                         torch.from_numpy(test_labels),\n",
        "                         torch.from_numpy(test_answers))\n"
      ]
    },
    {
      "cell_type": "markdown",
      "metadata": {
        "id": "r2LiHsf5GzW8"
      },
      "source": [
        "The next code snippet creates the network. Most of the network is identical to the programming example for the multimodal network. The key difference is that in parallel with the ten-unit output layer for multiclass classification, there is a one-unit output layer for binary classification. Given that there are two separate outputs, we also need to supply two separate loss functions.\n"
      ]
    },
    {
      "cell_type": "code",
      "execution_count": 4,
      "metadata": {
        "id": "DauZrBU-GzW8"
      },
      "outputs": [],
      "source": [
        "# Define model.\n",
        "class MultiTaskModel(nn.Module):\n",
        "    def __init__(self):\n",
        "        super().__init__()\n",
        "        self.embedding_layer = nn.Embedding(MAX_WORDS, EMBEDDING_WIDTH)\n",
        "        nn.init.uniform_(self.embedding_layer.weight, -0.05, 0.05) # Default is -1, 1.\n",
        "        self.lstm_layers = nn.LSTM(EMBEDDING_WIDTH, 8, num_layers=1, batch_first=True)\n",
        "\n",
        "        self.linear_layer = nn.Linear(784+8, 25)\n",
        "        self.relu_layer = nn.ReLU()\n",
        "        self.class_output_layer = nn.Linear(25, 10)\n",
        "        self.answer_output_layer = nn.Linear(25, 1)\n",
        "\n",
        "    def forward(self, inputs):\n",
        "        image_input = inputs[0]\n",
        "        text_input = inputs[1]\n",
        "\n",
        "        # Process textual data.\n",
        "        x0 = self.embedding_layer(text_input)\n",
        "        x0 = self.lstm_layers(x0)\n",
        "\n",
        "        # Process image data.\n",
        "        # Flatten the image.\n",
        "        x1 = image_input.view(-1, 784)\n",
        "\n",
        "        # Concatenate input branches and build shared trunk.\n",
        "        x = torch.cat((x0[1][0][0], x1), dim=1)\n",
        "        x = self.linear_layer(x)\n",
        "        x = self.relu_layer(x)\n",
        "\n",
        "        # Define two heads.\n",
        "        class_output = self.class_output_layer(x)\n",
        "        answer_output = self.answer_output_layer(x)\n",
        "        return [class_output, answer_output]\n",
        "\n",
        "model = MultiTaskModel()\n",
        "\n",
        "# Loss function and optimizer\n",
        "optimizer = torch.optim.Adam(model.parameters())\n",
        "loss_function0 = nn.CrossEntropyLoss()\n",
        "loss_function1 = nn.BCEWithLogitsLoss()\n"
      ]
    },
    {
      "cell_type": "markdown",
      "metadata": {
        "id": "gEbXe-VBGzW9"
      },
      "source": [
        "The training loop needs to be modified to not only handle two different inputs (the image of the digit and the text representing the question) but also the two outputs and loss functions. We need to decide on weights for these two loss functions to indicate how to weigh the two into a single loss function for training the network. The weights should be treated like any other hyperparameter. A reasonable starting point is to have the same weight for both losses, so we use 50/50 in our implementation. You can see how we compute and weigh these two losses as a part of the forward pass in the code snippet below.\n",
        "\n",
        "Finally, we also modify the print statement to print out loss and accuracy separately for the two heads. If you run this code example, you should see it achieving an accuracy above 90% for both tasks. You can experiment with tweaking the weights for the two loss functions and see how that affects the results.\n"
      ]
    },
    {
      "cell_type": "code",
      "execution_count": 5,
      "metadata": {
        "id": "rwAYScy_GzW9",
        "outputId": "df0ebd05-3fbe-4b47-ec68-e780d17a5173",
        "colab": {
          "base_uri": "https://localhost:8080/"
        }
      },
      "outputs": [
        {
          "output_type": "stream",
          "name": "stdout",
          "text": [
            "Epoch 1/20 class loss: 0.3849 - answer loss: 0.6630 - class acc: 0.8904 - answer acc: 0.5895 - class val_loss: 0.2477 - answer val_loss: 0.7101 - class val_acc: 0.9238 - answer val_acc: 0.5673\n",
            "Epoch 2/20 class loss: 0.2442 - answer loss: 0.5185 - class acc: 0.9281 - answer acc: 0.7331 - class val_loss: 0.2409 - answer val_loss: 0.5548 - class val_acc: 0.9222 - answer val_acc: 0.6772\n",
            "Epoch 3/20 class loss: 0.2160 - answer loss: 0.4425 - class acc: 0.9360 - answer acc: 0.7832 - class val_loss: 0.2242 - answer val_loss: 0.5529 - class val_acc: 0.9277 - answer val_acc: 0.7042\n",
            "Epoch 4/20 class loss: 0.1940 - answer loss: 0.4213 - class acc: 0.9424 - answer acc: 0.7978 - class val_loss: 0.2087 - answer val_loss: 0.5587 - class val_acc: 0.9343 - answer val_acc: 0.6995\n",
            "Epoch 5/20 class loss: 0.1775 - answer loss: 0.4100 - class acc: 0.9469 - answer acc: 0.8064 - class val_loss: 0.1953 - answer val_loss: 0.5477 - class val_acc: 0.9387 - answer val_acc: 0.7086\n",
            "Epoch 6/20 class loss: 0.1652 - answer loss: 0.4009 - class acc: 0.9502 - answer acc: 0.8119 - class val_loss: 0.1807 - answer val_loss: 0.5497 - class val_acc: 0.9427 - answer val_acc: 0.7166\n",
            "Epoch 7/20 class loss: 0.1569 - answer loss: 0.3916 - class acc: 0.9530 - answer acc: 0.8186 - class val_loss: 0.1776 - answer val_loss: 0.5277 - class val_acc: 0.9420 - answer val_acc: 0.7338\n",
            "Epoch 8/20 class loss: 0.1508 - answer loss: 0.3742 - class acc: 0.9538 - answer acc: 0.8304 - class val_loss: 0.1782 - answer val_loss: 0.5063 - class val_acc: 0.9428 - answer val_acc: 0.7610\n",
            "Epoch 9/20 class loss: 0.1487 - answer loss: 0.3215 - class acc: 0.9546 - answer acc: 0.8649 - class val_loss: 0.1867 - answer val_loss: 0.3910 - class val_acc: 0.9400 - answer val_acc: 0.8229\n",
            "Epoch 10/20 class loss: 0.1472 - answer loss: 0.2706 - class acc: 0.9555 - answer acc: 0.8926 - class val_loss: 0.1746 - answer val_loss: 0.3464 - class val_acc: 0.9459 - answer val_acc: 0.8514\n",
            "Epoch 11/20 class loss: 0.1451 - answer loss: 0.2451 - class acc: 0.9562 - answer acc: 0.9048 - class val_loss: 0.1750 - answer val_loss: 0.3345 - class val_acc: 0.9445 - answer val_acc: 0.8612\n",
            "Epoch 12/20 class loss: 0.1425 - answer loss: 0.2281 - class acc: 0.9562 - answer acc: 0.9132 - class val_loss: 0.1881 - answer val_loss: 0.3005 - class val_acc: 0.9399 - answer val_acc: 0.8756\n",
            "Epoch 13/20 class loss: 0.1374 - answer loss: 0.2172 - class acc: 0.9583 - answer acc: 0.9193 - class val_loss: 0.1771 - answer val_loss: 0.2914 - class val_acc: 0.9436 - answer val_acc: 0.8821\n",
            "Epoch 14/20 class loss: 0.1346 - answer loss: 0.2093 - class acc: 0.9594 - answer acc: 0.9220 - class val_loss: 0.1674 - answer val_loss: 0.2830 - class val_acc: 0.9479 - answer val_acc: 0.8906\n",
            "Epoch 15/20 class loss: 0.1301 - answer loss: 0.2002 - class acc: 0.9600 - answer acc: 0.9259 - class val_loss: 0.1738 - answer val_loss: 0.2775 - class val_acc: 0.9446 - answer val_acc: 0.8892\n",
            "Epoch 16/20 class loss: 0.1294 - answer loss: 0.1942 - class acc: 0.9597 - answer acc: 0.9270 - class val_loss: 0.1709 - answer val_loss: 0.2693 - class val_acc: 0.9444 - answer val_acc: 0.8963\n",
            "Epoch 17/20 class loss: 0.1262 - answer loss: 0.1888 - class acc: 0.9618 - answer acc: 0.9301 - class val_loss: 0.1660 - answer val_loss: 0.2788 - class val_acc: 0.9498 - answer val_acc: 0.8936\n",
            "Epoch 18/20 class loss: 0.1228 - answer loss: 0.1850 - class acc: 0.9614 - answer acc: 0.9310 - class val_loss: 0.1639 - answer val_loss: 0.2768 - class val_acc: 0.9476 - answer val_acc: 0.8906\n",
            "Epoch 19/20 class loss: 0.1211 - answer loss: 0.1819 - class acc: 0.9631 - answer acc: 0.9332 - class val_loss: 0.1680 - answer val_loss: 0.2664 - class val_acc: 0.9479 - answer val_acc: 0.8965\n",
            "Epoch 20/20 class loss: 0.1185 - answer loss: 0.1757 - class acc: 0.9634 - answer acc: 0.9346 - class val_loss: 0.1652 - answer val_loss: 0.2607 - class val_acc: 0.9492 - answer val_acc: 0.8983\n"
          ]
        }
      ],
      "source": [
        "# Training loop for multi-modal multi-task model.\n",
        "# Transfer model to GPU.\n",
        "model.to(device)\n",
        "\n",
        "# Create dataloaders.\n",
        "trainloader = DataLoader(trainset, batch_size=BATCH_SIZE, shuffle=True)\n",
        "testloader = DataLoader(testset, batch_size=BATCH_SIZE, shuffle=False)\n",
        "\n",
        "for i in range(EPOCHS):\n",
        "    model.train() # Set model in training mode.\n",
        "    class_train_loss = 0.0\n",
        "    class_train_correct = 0\n",
        "    answer_train_loss = 0.0\n",
        "    answer_train_correct = 0\n",
        "    train_batches = 0\n",
        "    for image_inputs, text_inputs, class_targets, answer_targets in trainloader:\n",
        "        # Move data to GPU.\n",
        "        image_inputs = image_inputs.to(device)\n",
        "        text_inputs = text_inputs.to(device)\n",
        "        class_targets = class_targets.to(device)\n",
        "        answer_targets = answer_targets.to(device)\n",
        "\n",
        "        # Zero the parameter gradients.\n",
        "        optimizer.zero_grad()\n",
        "\n",
        "        # Forward pass.\n",
        "        outputs = model([image_inputs, text_inputs])\n",
        "        class_loss = loss_function0(outputs[0], class_targets)\n",
        "        answer_loss = loss_function1(outputs[1], answer_targets)\n",
        "        loss = 0.5*class_loss + 0.5*answer_loss\n",
        "\n",
        "        # Accumulate metrics.\n",
        "        _, indices = torch.max(outputs[0].data, 1)\n",
        "        class_train_correct += (indices == class_targets).sum().item()\n",
        "        answer_train_correct += ((outputs[1].data > 0.0) == answer_targets).sum().item()\n",
        "        train_batches +=  1\n",
        "        class_train_loss += class_loss.item()\n",
        "        answer_train_loss += answer_loss.item()\n",
        "\n",
        "        # Backward pass and update.\n",
        "        loss.backward()\n",
        "        optimizer.step()\n",
        "\n",
        "    class_train_loss = class_train_loss / train_batches\n",
        "    class_train_acc = class_train_correct / (train_batches * BATCH_SIZE)\n",
        "    answer_train_loss = answer_train_loss / train_batches\n",
        "    answer_train_acc = answer_train_correct / (train_batches * BATCH_SIZE)\n",
        "\n",
        "    # Evaluate the model on the test dataset.\n",
        "    model.eval() # Set model in inference mode.\n",
        "    class_test_loss = 0.0\n",
        "    class_test_correct = 0\n",
        "    answer_test_loss = 0.0\n",
        "    answer_test_correct = 0\n",
        "    test_batches = 0\n",
        "    for image_inputs, text_inputs, class_targets, answer_targets in testloader:\n",
        "        image_inputs = image_inputs.to(device)\n",
        "        text_inputs = text_inputs.to(device)\n",
        "        class_targets = class_targets.to(device)\n",
        "        answer_targets = answer_targets.to(device)\n",
        "        outputs = model([image_inputs, text_inputs])\n",
        "        class_loss = loss_function0(outputs[0], class_targets)\n",
        "        answer_loss = loss_function1(outputs[1], answer_targets)\n",
        "        loss = 0.5*class_loss + 0.5*answer_loss\n",
        "        _, indices = torch.max(outputs[0].data, 1)\n",
        "        class_test_correct += (indices == class_targets).sum().item()\n",
        "        answer_test_correct += ((outputs[1].data > 0.0) == answer_targets).sum().item()\n",
        "        test_batches +=  1\n",
        "        class_test_loss += class_loss.item()\n",
        "        answer_test_loss += answer_loss.item()\n",
        "    class_test_loss = class_test_loss / test_batches\n",
        "    class_test_acc = class_test_correct / (test_batches * BATCH_SIZE)\n",
        "    answer_test_loss = answer_test_loss / test_batches\n",
        "    answer_test_acc = answer_test_correct / (test_batches * BATCH_SIZE)\n",
        "    print(f'Epoch {i+1}/{EPOCHS} class loss: {class_train_loss:.4f} - answer loss: {answer_train_loss:.4f} - class acc: {class_train_acc:0.4f} - answer acc: {answer_train_acc:0.4f} - class val_loss: {class_test_loss:.4f} - answer val_loss: {answer_test_loss:.4f} - class val_acc: {class_test_acc:0.4f} - answer val_acc: {answer_test_acc:0.4f}')\n"
      ]
    }
  ],
  "metadata": {
    "kernelspec": {
      "display_name": "Python 3",
      "language": "python",
      "name": "python3"
    },
    "language_info": {
      "codemirror_mode": {
        "name": "ipython",
        "version": 3
      },
      "file_extension": ".py",
      "mimetype": "text/x-python",
      "name": "python",
      "nbconvert_exporter": "python",
      "pygments_lexer": "ipython3",
      "version": "3.8.6"
    },
    "colab": {
      "provenance": []
    }
  },
  "nbformat": 4,
  "nbformat_minor": 0
}