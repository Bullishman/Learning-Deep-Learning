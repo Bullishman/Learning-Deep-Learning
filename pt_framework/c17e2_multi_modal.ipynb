{
  "cells": [
    {
      "cell_type": "code",
      "execution_count": 1,
      "metadata": {
        "id": "AkLj1ZE4CrOo",
        "outputId": "882049de-c7d8-4597-9bb4-a3bca13dc497",
        "colab": {
          "base_uri": "https://localhost:8080/",
          "height": 219
        }
      },
      "outputs": [
        {
          "output_type": "execute_result",
          "data": {
            "text/plain": [
              "'\\nThe MIT License (MIT)\\nCopyright (c) 2021 NVIDIA\\nPermission is hereby granted, free of charge, to any person obtaining a copy of\\nthis software and associated documentation files (the \"Software\"), to deal in\\nthe Software without restriction, including without limitation the rights to\\nuse, copy, modify, merge, publish, distribute, sublicense, and/or sell copies of\\nthe Software, and to permit persons to whom the Software is furnished to do so,\\nsubject to the following conditions:\\nThe above copyright notice and this permission notice shall be included in all\\ncopies or substantial portions of the Software.\\nTHE SOFTWARE IS PROVIDED \"AS IS\", WITHOUT WARRANTY OF ANY KIND, EXPRESS OR\\nIMPLIED, INCLUDING BUT NOT LIMITED TO THE WARRANTIES OF MERCHANTABILITY, FITNESS\\nFOR A PARTICULAR PURPOSE AND NONINFRINGEMENT. IN NO EVENT SHALL THE AUTHORS OR\\nCOPYRIGHT HOLDERS BE LIABLE FOR ANY CLAIM, DAMAGES OR OTHER LIABILITY, WHETHER\\nIN AN ACTION OF CONTRACT, TORT OR OTHERWISE, ARISING FROM, OUT OF OR IN\\nCONNECTION WITH THE SOFTWARE OR THE USE OR OTHER DEALINGS IN THE SOFTWARE.\\n'"
            ],
            "application/vnd.google.colaboratory.intrinsic+json": {
              "type": "string"
            }
          },
          "metadata": {},
          "execution_count": 1
        }
      ],
      "source": [
        "\"\"\"\n",
        "The MIT License (MIT)\n",
        "Copyright (c) 2021 NVIDIA\n",
        "Permission is hereby granted, free of charge, to any person obtaining a copy of\n",
        "this software and associated documentation files (the \"Software\"), to deal in\n",
        "the Software without restriction, including without limitation the rights to\n",
        "use, copy, modify, merge, publish, distribute, sublicense, and/or sell copies of\n",
        "the Software, and to permit persons to whom the Software is furnished to do so,\n",
        "subject to the following conditions:\n",
        "The above copyright notice and this permission notice shall be included in all\n",
        "copies or substantial portions of the Software.\n",
        "THE SOFTWARE IS PROVIDED \"AS IS\", WITHOUT WARRANTY OF ANY KIND, EXPRESS OR\n",
        "IMPLIED, INCLUDING BUT NOT LIMITED TO THE WARRANTIES OF MERCHANTABILITY, FITNESS\n",
        "FOR A PARTICULAR PURPOSE AND NONINFRINGEMENT. IN NO EVENT SHALL THE AUTHORS OR\n",
        "COPYRIGHT HOLDERS BE LIABLE FOR ANY CLAIM, DAMAGES OR OTHER LIABILITY, WHETHER\n",
        "IN AN ACTION OF CONTRACT, TORT OR OTHERWISE, ARISING FROM, OUT OF OR IN\n",
        "CONNECTION WITH THE SOFTWARE OR THE USE OR OTHER DEALINGS IN THE SOFTWARE.\n",
        "\"\"\"\n"
      ]
    },
    {
      "cell_type": "markdown",
      "metadata": {
        "id": "0Ry8XkQHCrOq"
      },
      "source": [
        "This code example demonstrates how to train a classifier, using two input modalities. We use the MNIST dataset but in addition to the image modality, we also create a textual modality. More context for this code example can be found in the section \"Programming Example: Classification with multimodal input data\" in Chapter 17 in the book Learning Deep Learning by Magnus Ekman (ISBN: 9780137470358).\n",
        "\n",
        "We start with initialization code and loading and standardizing the MNIST dataset in the code snippet below.\n"
      ]
    },
    {
      "cell_type": "code",
      "execution_count": 2,
      "metadata": {
        "id": "tSUbPtnwCrOs",
        "outputId": "97ff6897-d370-450f-b190-05eed45e1414",
        "colab": {
          "base_uri": "https://localhost:8080/"
        }
      },
      "outputs": [
        {
          "output_type": "stream",
          "name": "stdout",
          "text": [
            "Downloading http://yann.lecun.com/exdb/mnist/train-images-idx3-ubyte.gz\n",
            "Downloading http://yann.lecun.com/exdb/mnist/train-images-idx3-ubyte.gz to ./pt_data/MNIST/raw/train-images-idx3-ubyte.gz\n"
          ]
        },
        {
          "output_type": "stream",
          "name": "stderr",
          "text": [
            "100%|██████████| 9912422/9912422 [00:00<00:00, 78927386.61it/s]\n"
          ]
        },
        {
          "output_type": "stream",
          "name": "stdout",
          "text": [
            "Extracting ./pt_data/MNIST/raw/train-images-idx3-ubyte.gz to ./pt_data/MNIST/raw\n",
            "\n",
            "Downloading http://yann.lecun.com/exdb/mnist/train-labels-idx1-ubyte.gz\n",
            "Downloading http://yann.lecun.com/exdb/mnist/train-labels-idx1-ubyte.gz to ./pt_data/MNIST/raw/train-labels-idx1-ubyte.gz\n"
          ]
        },
        {
          "output_type": "stream",
          "name": "stderr",
          "text": [
            "100%|██████████| 28881/28881 [00:00<00:00, 57437503.00it/s]"
          ]
        },
        {
          "output_type": "stream",
          "name": "stdout",
          "text": [
            "Extracting ./pt_data/MNIST/raw/train-labels-idx1-ubyte.gz to ./pt_data/MNIST/raw\n",
            "\n",
            "Downloading http://yann.lecun.com/exdb/mnist/t10k-images-idx3-ubyte.gz\n"
          ]
        },
        {
          "output_type": "stream",
          "name": "stderr",
          "text": [
            "\n"
          ]
        },
        {
          "output_type": "stream",
          "name": "stdout",
          "text": [
            "Downloading http://yann.lecun.com/exdb/mnist/t10k-images-idx3-ubyte.gz to ./pt_data/MNIST/raw/t10k-images-idx3-ubyte.gz\n"
          ]
        },
        {
          "output_type": "stream",
          "name": "stderr",
          "text": [
            "100%|██████████| 1648877/1648877 [00:00<00:00, 21872096.81it/s]"
          ]
        },
        {
          "output_type": "stream",
          "name": "stdout",
          "text": [
            "Extracting ./pt_data/MNIST/raw/t10k-images-idx3-ubyte.gz to ./pt_data/MNIST/raw\n"
          ]
        },
        {
          "output_type": "stream",
          "name": "stderr",
          "text": [
            "\n"
          ]
        },
        {
          "output_type": "stream",
          "name": "stdout",
          "text": [
            "\n",
            "Downloading http://yann.lecun.com/exdb/mnist/t10k-labels-idx1-ubyte.gz\n",
            "Downloading http://yann.lecun.com/exdb/mnist/t10k-labels-idx1-ubyte.gz to ./pt_data/MNIST/raw/t10k-labels-idx1-ubyte.gz\n"
          ]
        },
        {
          "output_type": "stream",
          "name": "stderr",
          "text": [
            "100%|██████████| 4542/4542 [00:00<00:00, 15000416.35it/s]"
          ]
        },
        {
          "output_type": "stream",
          "name": "stdout",
          "text": [
            "Extracting ./pt_data/MNIST/raw/t10k-labels-idx1-ubyte.gz to ./pt_data/MNIST/raw\n",
            "\n"
          ]
        },
        {
          "output_type": "stream",
          "name": "stderr",
          "text": [
            "\n"
          ]
        }
      ],
      "source": [
        "import torch\n",
        "import torch.nn as nn\n",
        "import torch.nn.functional as F\n",
        "from torch.utils.data import TensorDataset, DataLoader\n",
        "import torchvision\n",
        "import torchvision.transforms as transforms\n",
        "from torchvision.datasets import MNIST\n",
        "from torch.utils.data import DataLoader\n",
        "# Using Keras Tokenizer for simplicity\n",
        "from tensorflow.keras.preprocessing.text import Tokenizer\n",
        "from tensorflow.keras.preprocessing.text \\\n",
        "    import text_to_word_sequence\n",
        "from tensorflow.keras.preprocessing.sequence \\\n",
        "    import pad_sequences\n",
        "import numpy as np\n",
        "import matplotlib.pyplot as plt\n",
        "\n",
        "device = torch.device(\"cuda:0\" if torch.cuda.is_available() else \"cpu\")\n",
        "EPOCHS = 20\n",
        "BATCH_SIZE = 64\n",
        "MAX_WORDS = 8\n",
        "EMBEDDING_WIDTH = 4\n",
        "\n",
        "# Load MNIST dataset.\n",
        "trainset = MNIST(root='./pt_data', train=True, download=True)\n",
        "testset = MNIST(root='./pt_data', train=False, download=True)\n",
        "\n",
        "# Convert to numpy arrays to enable us to create a richer dataset.\n",
        "train_images = trainset.data.numpy().astype(np.float32)\n",
        "train_labels = trainset.targets.numpy()\n",
        "test_images = testset.data.numpy().astype(np.float32)\n",
        "test_labels = testset.targets.numpy()\n",
        "\n",
        "# Standardize the data.\n",
        "mean = np.mean(train_images)\n",
        "stddev = np.std(train_images)\n",
        "train_images = (train_images - mean) / stddev\n",
        "test_images = (test_images - mean) / stddev\n"
      ]
    },
    {
      "cell_type": "markdown",
      "metadata": {
        "id": "Z1bDHcaDCrOs"
      },
      "source": [
        "The code snippet below creates the second input modality, which is a textual representation of each input example. To not make it too easy for the network, this textual view of the data is not complete but gives only partial information about the digit. For each training and test example, we alternate between specifying that the digit is odd or even and specifying that it is a high or low number. The textual modality created in this code snippet does not fully define what digit it is but can be helpful when an image is ambiguous.\n"
      ]
    },
    {
      "cell_type": "code",
      "execution_count": 3,
      "metadata": {
        "id": "TrMNIx_TCrOt"
      },
      "outputs": [],
      "source": [
        "# Function to create second modality.\n",
        "def create_text(tokenizer, labels):\n",
        "    text = []\n",
        "    for i, label in enumerate(labels):\n",
        "        if i % 2 == 0:\n",
        "            if label < 5:\n",
        "                text.append('lower half')\n",
        "            else:\n",
        "                text.append('upper half')\n",
        "        else:\n",
        "            if label % 2 == 0:\n",
        "                text.append('even number')\n",
        "            else:\n",
        "                text.append('odd number')\n",
        "    text = tokenizer.texts_to_sequences(text)\n",
        "    text = pad_sequences(text)\n",
        "    return text\n",
        "\n",
        "# Create second modality for training and test set.\n",
        "vocabulary = ['lower', 'upper', 'half', 'even', 'odd', 'number']\n",
        "tokenizer = Tokenizer(num_words=MAX_WORDS)\n",
        "tokenizer.fit_on_texts(vocabulary)\n",
        "train_text = create_text(tokenizer, train_labels).astype(np.int64)\n",
        "test_text = create_text(tokenizer, test_labels).astype(np.int64)\n",
        "\n",
        "# Create datasets.\n",
        "trainset = TensorDataset(torch.from_numpy(train_images),\n",
        "                         torch.from_numpy(train_text),\n",
        "                         torch.from_numpy(train_labels))\n",
        "\n",
        "testset = TensorDataset(torch.from_numpy(test_images),\n",
        "                         torch.from_numpy(test_text),\n",
        "                         torch.from_numpy(test_labels))\n"
      ]
    },
    {
      "cell_type": "markdown",
      "metadata": {
        "id": "fa7euyYOCrOt"
      },
      "source": [
        "The image classification network is similar to the example c5e1_mnist_learning but with an additional subnetwork that processes the textual input. This subnetwork consists of an Embedding layer and an LSTM layer. The output of the LSTM layer is concatenated with the image input and fed to a fully connected layer. This layer is followed by the final fully connected softmax layer that produces the classification. The implementation is shown below."
      ]
    },
    {
      "cell_type": "code",
      "execution_count": 4,
      "metadata": {
        "id": "Klh1A3kHCrOt"
      },
      "outputs": [],
      "source": [
        "# Define model.\n",
        "class MultiModalModel(nn.Module):\n",
        "    def __init__(self):\n",
        "        super().__init__()\n",
        "        self.embedding_layer = nn.Embedding(MAX_WORDS, EMBEDDING_WIDTH)\n",
        "        nn.init.uniform_(self.embedding_layer.weight, -0.05, 0.05) # Default is -1, 1.\n",
        "        self.lstm_layers = nn.LSTM(EMBEDDING_WIDTH, 8, num_layers=1, batch_first=True)\n",
        "\n",
        "        self.linear_layer = nn.Linear(784, 25)\n",
        "        self.relu_layer = nn.ReLU()\n",
        "        self.output_layer = nn.Linear(25+8, 10)\n",
        "\n",
        "    def forward(self, inputs):\n",
        "        image_input = inputs[0]\n",
        "        text_input = inputs[1]\n",
        "\n",
        "        # Process textual data.\n",
        "        x0 = self.embedding_layer(text_input)\n",
        "        x0 = self.lstm_layers(x0)\n",
        "\n",
        "        # Process image data.\n",
        "        # Flatten the image.\n",
        "        x1 = image_input.view(-1, 784)\n",
        "        x1 = self.linear_layer(x1)\n",
        "        x1 = self.relu_layer(x1)\n",
        "\n",
        "        # Concatenate input branches and feed to output layer.\n",
        "        x = torch.cat((x0[1][0][0], x1), dim=1)\n",
        "        x = self.output_layer(x)\n",
        "        return x\n",
        "\n",
        "model = MultiModalModel()\n",
        "\n",
        "# Loss function and optimizer\n",
        "optimizer = torch.optim.Adam(model.parameters())\n",
        "loss_function = nn.CrossEntropyLoss()\n"
      ]
    },
    {
      "cell_type": "markdown",
      "metadata": {
        "id": "lXOjpkZtCrOu"
      },
      "source": [
        "The training loop is similar to our standard implementation (train_model in utilities.py), with a slight modification to handle the fact that our input data has two modalities. In the code snippet below you can see how we provide a list with two elements to the model during the forward pass.\n",
        "\n",
        "When running the code you should see the network achieving an accuracy in the high 90s. If you are ambitious, you can devise experiments to see if the second modality truly helped. One way of doing this is to modify the code snippet that created the second modality so it does not provide any additional information, e.g., set it to 'lower half' for all examples. Another option is to remove the textual input modality altogether, but then the network would have fewer weights, so it might not be a fair comparison.\n"
      ]
    },
    {
      "cell_type": "code",
      "execution_count": 5,
      "metadata": {
        "id": "sy23D0IjCrOu",
        "outputId": "d9dabe1c-c360-44c5-ddb7-88028c4d7a3d",
        "colab": {
          "base_uri": "https://localhost:8080/"
        }
      },
      "outputs": [
        {
          "output_type": "stream",
          "name": "stdout",
          "text": [
            "Epoch 1/20 loss: 0.3247 - acc: 0.9079 - val_loss: 0.1565 - val_acc: 0.9485\n",
            "Epoch 2/20 loss: 0.1220 - acc: 0.9634 - val_loss: 0.1279 - val_acc: 0.9561\n",
            "Epoch 3/20 loss: 0.0916 - acc: 0.9724 - val_loss: 0.1026 - val_acc: 0.9634\n",
            "Epoch 4/20 loss: 0.0758 - acc: 0.9771 - val_loss: 0.0885 - val_acc: 0.9666\n",
            "Epoch 5/20 loss: 0.0649 - acc: 0.9798 - val_loss: 0.0914 - val_acc: 0.9657\n",
            "Epoch 6/20 loss: 0.0571 - acc: 0.9824 - val_loss: 0.0869 - val_acc: 0.9683\n",
            "Epoch 7/20 loss: 0.0516 - acc: 0.9831 - val_loss: 0.0839 - val_acc: 0.9679\n",
            "Epoch 8/20 loss: 0.0458 - acc: 0.9851 - val_loss: 0.0989 - val_acc: 0.9661\n",
            "Epoch 9/20 loss: 0.0421 - acc: 0.9867 - val_loss: 0.0821 - val_acc: 0.9696\n",
            "Epoch 10/20 loss: 0.0391 - acc: 0.9871 - val_loss: 0.0822 - val_acc: 0.9695\n",
            "Epoch 11/20 loss: 0.0351 - acc: 0.9884 - val_loss: 0.0898 - val_acc: 0.9702\n",
            "Epoch 12/20 loss: 0.0329 - acc: 0.9893 - val_loss: 0.0810 - val_acc: 0.9704\n",
            "Epoch 13/20 loss: 0.0306 - acc: 0.9896 - val_loss: 0.0903 - val_acc: 0.9695\n",
            "Epoch 14/20 loss: 0.0284 - acc: 0.9903 - val_loss: 0.0880 - val_acc: 0.9694\n",
            "Epoch 15/20 loss: 0.0267 - acc: 0.9910 - val_loss: 0.0869 - val_acc: 0.9710\n",
            "Epoch 16/20 loss: 0.0246 - acc: 0.9918 - val_loss: 0.0860 - val_acc: 0.9705\n",
            "Epoch 17/20 loss: 0.0233 - acc: 0.9918 - val_loss: 0.0863 - val_acc: 0.9712\n",
            "Epoch 18/20 loss: 0.0225 - acc: 0.9921 - val_loss: 0.0902 - val_acc: 0.9709\n",
            "Epoch 19/20 loss: 0.0194 - acc: 0.9936 - val_loss: 0.0913 - val_acc: 0.9696\n",
            "Epoch 20/20 loss: 0.0197 - acc: 0.9928 - val_loss: 0.0972 - val_acc: 0.9683\n"
          ]
        }
      ],
      "source": [
        "# Training loop for multi modal model.\n",
        "\n",
        "# Transfer model to GPU.\n",
        "model.to(device)\n",
        "\n",
        "# Create dataloaders.\n",
        "trainloader = DataLoader(trainset, batch_size=BATCH_SIZE, shuffle=True)\n",
        "testloader = DataLoader(testset, batch_size=BATCH_SIZE, shuffle=False)\n",
        "\n",
        "for i in range(EPOCHS):\n",
        "    model.train() # Set model in training mode.\n",
        "    train_loss = 0.0\n",
        "    train_correct = 0\n",
        "    train_batches = 0\n",
        "    for image_inputs, text_inputs, targets in trainloader:\n",
        "        # Move data to GPU.\n",
        "        image_inputs = image_inputs.to(device)\n",
        "        text_inputs = text_inputs.to(device)\n",
        "        targets = targets.to(device)\n",
        "\n",
        "        # Zero the parameter gradients.\n",
        "        optimizer.zero_grad()\n",
        "\n",
        "        # Forward pass.\n",
        "        outputs = model([image_inputs, text_inputs])\n",
        "        loss = loss_function(outputs, targets)\n",
        "\n",
        "        # Accumulate metrics.\n",
        "        _, indices = torch.max(outputs.data, 1)\n",
        "        train_correct += (indices == targets).sum().item()\n",
        "        train_batches +=  1\n",
        "        train_loss += loss.item()\n",
        "\n",
        "        # Backward pass and update.\n",
        "        loss.backward()\n",
        "        optimizer.step()\n",
        "\n",
        "    train_loss = train_loss / train_batches\n",
        "    train_acc = train_correct / (train_batches * BATCH_SIZE)\n",
        "\n",
        "    # Evaluate the model on the test dataset.\n",
        "    model.eval() # Set model in inference mode.\n",
        "    test_loss = 0.0\n",
        "    test_correct = 0\n",
        "    test_batches = 0\n",
        "    for image_inputs, text_inputs, targets in testloader:\n",
        "        image_inputs = image_inputs.to(device)\n",
        "        text_inputs = text_inputs.to(device)\n",
        "        targets = targets.to(device)\n",
        "        outputs = model([image_inputs, text_inputs])\n",
        "        loss = loss_function(outputs, targets)\n",
        "        _, indices = torch.max(outputs.data, 1)\n",
        "        test_correct += (indices == targets).sum().item()\n",
        "        test_batches +=  1\n",
        "        test_loss += loss.item()\n",
        "    test_loss = test_loss / test_batches\n",
        "    test_acc = test_correct / (test_batches * BATCH_SIZE)\n",
        "    print(f'Epoch {i+1}/{EPOCHS} loss: {train_loss:.4f} - acc: {train_acc:0.4f} - val_loss: {test_loss:.4f} - val_acc: {test_acc:0.4f}')\n"
      ]
    },
    {
      "cell_type": "markdown",
      "metadata": {
        "id": "XL0vhWUuCrOu"
      },
      "source": [
        "To further illustrate the effect of using the two input modalities, we do an experiment in the code snippet below. We first show all the information about a given test example. It turns out to be the digit 7, and the textual description was 'upper half'. We then use the network to make a prediction, given this image and textual description as input. We print out digits and predicted probabilities, sorted on the basis of the probabilities. The expected result is that the network correctly predicts the digit as a 7.\n",
        "\n",
        "As a next step, we do another prediction, but this time we change the textual input to indicate 'lower half'. Looking at the probabilities, the probabilities for the high digits should now have decreased. The exact result varies, but in many cases, the probabilities changes enough that the prediction from the network changes from a 7 to a 3. This illustrates that the network has learned to take both the image and the textual description into account.\n"
      ]
    },
    {
      "cell_type": "code",
      "execution_count": 6,
      "metadata": {
        "id": "OZzCinU8CrOv",
        "outputId": "c752e9fc-9957-4be4-f5b8-d22bbfc3b84c",
        "colab": {
          "base_uri": "https://localhost:8080/",
          "height": 600
        }
      },
      "outputs": [
        {
          "output_type": "stream",
          "name": "stdout",
          "text": [
            "7\n",
            "['upper half']\n"
          ]
        },
        {
          "output_type": "display_data",
          "data": {
            "text/plain": [
              "<Figure size 100x100 with 1 Axes>"
            ],
            "image/png": "[encoded data removed]"
          },
          "metadata": {}
        },
        {
          "output_type": "stream",
          "name": "stdout",
          "text": [
            "Predictions with correct input:\n",
            "Digit: 7, probability: 1.00e+00\n",
            "Digit: 9, probability: 2.79e-07\n",
            "Digit: 8, probability: 2.52e-07\n",
            "Digit: 3, probability: 7.01e-08\n",
            "Digit: 2, probability: 2.28e-08\n",
            "Digit: 5, probability: 6.47e-09\n",
            "Digit: 0, probability: 4.35e-11\n",
            "Digit: 4, probability: 7.51e-14\n",
            "Digit: 1, probability: 4.01e-14\n",
            "Digit: 6, probability: 6.43e-20\n",
            "\n",
            "Predictions with incorrect input:\n",
            "Digit: 3, probability: 7.61e-01\n",
            "Digit: 2, probability: 1.62e-01\n",
            "Digit: 7, probability: 7.71e-02\n",
            "Digit: 0, probability: 4.28e-04\n",
            "Digit: 4, probability: 1.49e-05\n",
            "Digit: 1, probability: 7.74e-08\n",
            "Digit: 8, probability: 2.61e-08\n",
            "Digit: 9, probability: 6.71e-09\n",
            "Digit: 5, probability: 1.37e-10\n",
            "Digit: 6, probability: 3.86e-21\n"
          ]
        }
      ],
      "source": [
        "# Print input modalities and output for one test example.\n",
        "print(test_labels[0])\n",
        "print(tokenizer.sequences_to_texts([test_text[0]]))\n",
        "plt.figure(figsize=(1, 1))\n",
        "plt.imshow(test_images[0], cmap=plt.get_cmap('gray'))\n",
        "plt.show()\n",
        "\n",
        "# Create two examples to experiment with impact of textual input.\n",
        "images = test_images[0:2]\n",
        "images[1] = test_images[0] # Same image (digit 7) in both examples\n",
        "text = np.array([tokenizer.texts_to_sequences(['upper half'])[0],\n",
        "                 tokenizer.texts_to_sequences(['lower half'])[0]]) # Incorrect text for 2nd example\n",
        "\n",
        "# Convert to tensors and move to GPU if present.\n",
        "experiment_images = torch.from_numpy(images)\n",
        "experiment_text = torch.from_numpy(text)\n",
        "experiment_images = experiment_images.to(device)\n",
        "experiment_text = experiment_text.to(device)\n",
        "\n",
        "# Do predictions and apply softmax on output.\n",
        "output = model([experiment_images, experiment_text])\n",
        "output = F.softmax(output, dim = 1)\n",
        "y = output.detach().cpu().numpy()[0]\n",
        "print('Predictions with correct input:')\n",
        "for i in range(len(y)):\n",
        "    index = y.argmax()\n",
        "    print('Digit: %d,' %index, 'probability: %5.2e' %y[index])\n",
        "    y[index] = 0\n",
        "\n",
        "y = output.detach().cpu().numpy()[1]\n",
        "print('\\nPredictions with incorrect input:')\n",
        "for i in range(len(y)):\n",
        "    index = y.argmax()\n",
        "    print('Digit: %d,' %index, 'probability: %5.2e' %y[index])\n",
        "    y[index] = 0\n"
      ]
    }
  ],
  "metadata": {
    "kernelspec": {
      "display_name": "Python 3",
      "language": "python",
      "name": "python3"
    },
    "language_info": {
      "codemirror_mode": {
        "name": "ipython",
        "version": 3
      },
      "file_extension": ".py",
      "mimetype": "text/x-python",
      "name": "python",
      "nbconvert_exporter": "python",
      "pygments_lexer": "ipython3",
      "version": "3.8.6"
    },
    "colab": {
      "provenance": []
    }
  },
  "nbformat": 4,
  "nbformat_minor": 0
}